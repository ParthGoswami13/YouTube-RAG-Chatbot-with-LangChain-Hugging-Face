{
 "cells": [
  {
   "cell_type": "markdown",
   "metadata": {},
   "source": [
    "## Install libraries"
   ]
  },
  {
   "cell_type": "code",
   "execution_count": 1,
   "metadata": {
    "id": "nG6m3Q9DBHV1"
   },
   "outputs": [
    {
     "name": "stdout",
     "output_type": "stream",
     "text": [
      "Note: you may need to restart the kernel to use updated packages.\n"
     ]
    }
   ],
   "source": [
    "%pip install -q youtube-transcript-api langchain-community langchain-huggingface sentence-transformers \\\n",
    "                faiss-cpu tiktoken python-dotenv"
   ]
  },
  {
   "cell_type": "code",
   "execution_count": null,
   "metadata": {
    "colab": {
     "base_uri": "https://localhost:8080/"
    },
    "id": "8F7iZIBmB8_T",
    "outputId": "79dacaf9-8646-431e-82b2-4eb168d96a55"
   },
   "outputs": [
    {
     "data": {
      "text/plain": [
       "True"
      ]
     },
     "execution_count": 2,
     "metadata": {},
     "output_type": "execute_result"
    }
   ],
   "source": [
    "from langchain_huggingface import ChatHuggingFace, HuggingFaceEndpoint\n",
    "from dotenv import load_dotenv, find_dotenv\n",
    "from langchain_core.messages import SystemMessage,AIMessage,HumanMessage\n",
    "from youtube_transcript_api import YouTubeTranscriptApi, TranscriptsDisabled\n",
    "from langchain.text_splitter import RecursiveCharacterTextSplitter\n",
    "from langchain_huggingface import HuggingFaceEmbeddings, HuggingFaceEndpoint\n",
    "from langchain_community.vectorstores import FAISS\n",
    "from langchain_core.prompts import PromptTemplate\n",
    "import os\n",
    "import re\n",
    "\n",
    "dotenv_path = find_dotenv(filename=\".env\", raise_error_if_not_found=True)\n",
    "load_dotenv(dotenv_path)\n"
   ]
  },
  {
   "cell_type": "markdown",
   "metadata": {
    "id": "0ZZrs-ijCTYt"
   },
   "source": [
    "## Step 1a - Indexing (Document Ingestion)"
   ]
  },
  {
   "cell_type": "code",
   "execution_count": 3,
   "metadata": {
    "colab": {
     "base_uri": "https://localhost:8080/",
     "height": 216
    },
    "id": "1p9AXZycFIH6",
    "outputId": "866503af-45c2-4788-9815-a5204a117109"
   },
   "outputs": [
    {
     "name": "stdout",
     "output_type": "stream",
     "text": [
      "Transcript fetched successfully!\n",
      "the following is a conversation with demus hasabis ceo and co-founder of deepmind a company that has published and builds some of the most incredible artificial intelligence systems in the history of computing including alfred zero that learned all by itself to play the game of gold better than any human in the world and alpha fold two that solved protein folding both tasks considered nearly impossible for a very long time demus is widely considered to be one of the most brilliant and impactful humans in the history of artificial intelligence and science and engineering in general this was truly an honor and a pleasure for me to finally sit down with him for this conversation and i'm sure we will talk many times again in the future this is the lex friedman podcast to support it please check out our sponsors in the description and now dear friends here's demis hassabis let's start with a bit of a personal question am i an ai program you wrote to interview people until i get good enough ...\n"
     ]
    }
   ],
   "source": [
    "from youtube_transcript_api import YouTubeTranscriptApi, TranscriptsDisabled\n",
    "\n",
    "api = YouTubeTranscriptApi()\n",
    "\n",
    "video_id = \"Gfr50f6ZBvo\"\n",
    "\n",
    "try:\n",
    "    transcript_list = api.fetch(video_id)\n",
    "    \n",
    "    transcript = \" \".join([d.text for d in transcript_list])\n",
    "    \n",
    "    print(\"Transcript fetched successfully!\")\n",
    "    print(transcript[:1000] + \"...\") \n",
    "\n",
    "except TranscriptsDisabled:\n",
    "    print(f\"Transcripts are disabled for video: {video_id}\")\n",
    "except Exception as e:\n",
    "    print(f\"An error occurred: {e}\")"
   ]
  },
  {
   "cell_type": "markdown",
   "metadata": {
    "id": "eKkcYsaOCrRX"
   },
   "source": [
    "## Step 1b - Indexing (Text Splitting)"
   ]
  },
  {
   "cell_type": "code",
   "execution_count": 5,
   "metadata": {
    "id": "24i-ZSVXFbnC"
   },
   "outputs": [],
   "source": [
    "splitter = RecursiveCharacterTextSplitter(chunk_size=1000, chunk_overlap=200)\n",
    "chunks = splitter.create_documents([transcript])"
   ]
  },
  {
   "cell_type": "code",
   "execution_count": 6,
   "metadata": {
    "colab": {
     "base_uri": "https://localhost:8080/"
    },
    "id": "4Dm9sfpQFnF1",
    "outputId": "7b9bea3d-b5a4-47f1-f793-16b6bfdd6a7b"
   },
   "outputs": [
    {
     "data": {
      "text/plain": [
       "168"
      ]
     },
     "execution_count": 6,
     "metadata": {},
     "output_type": "execute_result"
    }
   ],
   "source": [
    "len(chunks)"
   ]
  },
  {
   "cell_type": "code",
   "execution_count": 7,
   "metadata": {
    "colab": {
     "base_uri": "https://localhost:8080/"
    },
    "id": "mYlrcBrkFO-N",
    "outputId": "b6e33df4-c8a2-4c2d-f929-4af59774bd94"
   },
   "outputs": [
    {
     "data": {
      "text/plain": [
       "Document(metadata={}, page_content=\"and and kind of come up with descriptions of the electron clouds where they're gonna go how they're gonna interact when you put two elements together uh and what we try to do is learn a simulation uh uh learner functional that will describe more chemistry types of chemistry so um until now you know you can run expensive simulations but then you can only simulate very small uh molecules very simple molecules we would like to simulate large materials um and so uh today there's no way of doing that and we're building up towards uh building functionals that approximate schrodinger's equation and then allow you to describe uh what the electrons are doing and all materials sort of science and material properties are governed by the electrons and and how they interact so have a good summarization of the simulation through the functional um but one that is still close to what the actual simulation would come out with so what um how difficult is that to ask what's involved in that task is it\")"
      ]
     },
     "execution_count": 7,
     "metadata": {},
     "output_type": "execute_result"
    }
   ],
   "source": [
    "chunks[100]"
   ]
  },
  {
   "cell_type": "markdown",
   "metadata": {
    "id": "8xYFK7WXC2Ka"
   },
   "source": [
    "## Step 1c & 1d - Indexing (Embedding Generation and Storing in Vector Store)"
   ]
  },
  {
   "cell_type": "code",
   "execution_count": 8,
   "metadata": {
    "id": "jYXeS5T7FrC4"
   },
   "outputs": [],
   "source": [
    "embeddings = HuggingFaceEmbeddings(model_name=\"sentence-transformers/all-MiniLM-L6-v2\")\n",
    "vector_store = FAISS.from_documents(chunks, embeddings)"
   ]
  },
  {
   "cell_type": "code",
   "execution_count": 9,
   "metadata": {
    "colab": {
     "base_uri": "https://localhost:8080/"
    },
    "id": "PWYkp-NmFSVF",
    "outputId": "36f75b4d-b798-4e06-aeea-5c56c91befe0"
   },
   "outputs": [
    {
     "data": {
      "text/plain": [
       "{0: 'e1609d78-13de-40d3-bc35-7f4911679393',\n",
       " 1: '208d7981-bfe5-4186-9130-2c1880d86a45',\n",
       " 2: 'd68e78af-c3a7-4f6e-970f-0fdb91db9f61',\n",
       " 3: '103bd24c-daeb-4566-9fcd-28b012bc9a2f',\n",
       " 4: 'cd6f05ca-1518-44b0-bde4-8d8fd12f4a16',\n",
       " 5: '947fbcf8-256a-4677-acee-7dc44554985b',\n",
       " 6: 'e4b0d49c-0aad-412d-8ffd-6c6d3c081a31',\n",
       " 7: '57916fa7-f1aa-4341-8994-11dc1504e0b3',\n",
       " 8: '1565ade3-e430-4a6c-aed8-522151404a4c',\n",
       " 9: '619b6a3f-8818-491e-8bd5-3c19871e717b',\n",
       " 10: '030dd159-e999-45f1-8cfe-07be0ff87bfd',\n",
       " 11: '04bbb67e-c282-4193-be49-d49855aa464d',\n",
       " 12: 'e5a6b123-a93a-41d3-910b-8b1101ba66b6',\n",
       " 13: 'b9ea1bce-4382-45d4-b881-f608ac82500e',\n",
       " 14: '0d1ac1b3-e5c8-4175-bdeb-4adcff0b2743',\n",
       " 15: '125e36fc-dcb3-4e26-bd88-22f0dfba9c96',\n",
       " 16: '22171e95-ce50-4c9a-b6af-2a373b536111',\n",
       " 17: '4f762880-797f-41ee-bb2c-7019a5a1a8de',\n",
       " 18: 'fc6debb9-1839-49d6-b9c2-43c5de5a8d4c',\n",
       " 19: '8937b4a8-a3e5-45ee-8063-6a17521078df',\n",
       " 20: '9d51f309-dba4-4b37-a93b-a49920d69378',\n",
       " 21: '58f84d3b-b776-4798-954c-ef6c05229b7b',\n",
       " 22: '1fb0d2fc-149e-409a-b187-2d802cd936bc',\n",
       " 23: 'c01c6437-69bb-49db-9bb2-57bcbf21fe2d',\n",
       " 24: '7e29decc-5087-4654-9055-b75c8b8389ab',\n",
       " 25: 'c2aa2bf9-2304-4173-8bc4-c3c3ec7bd90f',\n",
       " 26: '937b1eac-fd10-41b4-a683-25c8191a2594',\n",
       " 27: '11d56dfc-212b-483d-9fa4-a37c02ada605',\n",
       " 28: '77834fc9-322b-4bef-aafa-653363970654',\n",
       " 29: 'd3fc154b-28a3-4e5b-b5f0-431361e484c6',\n",
       " 30: 'e60e125a-b424-4a66-b6ea-5d20a8cf0f90',\n",
       " 31: 'f0afa486-5c17-4f53-8a85-a6809fb08535',\n",
       " 32: '0aedd471-d8ca-4180-8136-7f21bc154994',\n",
       " 33: 'aa0178d0-f7fb-4318-aedb-05ac910a0cf9',\n",
       " 34: '3fb86ba0-c2d5-4b52-8e5b-c19a28163c68',\n",
       " 35: '81dbec48-4889-4e85-80ba-cd5466a2f164',\n",
       " 36: '727863e6-dd73-4169-94c3-611fec390016',\n",
       " 37: 'd4bbe231-6ea5-4d28-a3e5-a718f251c5da',\n",
       " 38: '2bcf580d-875f-4a80-951e-64c4e7199a7a',\n",
       " 39: '7854f76e-a241-47f5-9242-0b0b4fa92958',\n",
       " 40: '9526ed9d-513b-4c19-9d06-13e8b9c4eb15',\n",
       " 41: '6c89cf2e-5c19-41a3-816a-dac0f8dba892',\n",
       " 42: 'c5db3320-e714-463c-abfd-b48cdbb3bd16',\n",
       " 43: 'db1157e4-572d-49d3-a65e-7b0ab8fb2155',\n",
       " 44: 'd0bb16ef-d1a4-4088-be00-67b80e87a56e',\n",
       " 45: 'da47b995-a6f7-4339-889b-6d8d1efffc0c',\n",
       " 46: '114d9ce4-91e5-42a6-920a-b0f873703399',\n",
       " 47: 'e1cb7462-d539-4d12-b686-c0d6fa06c310',\n",
       " 48: '175febd4-79a0-4533-8875-6661e5e04a82',\n",
       " 49: '5806bd9d-1ce7-4c34-a0a0-594d9eb3e706',\n",
       " 50: '5bb3297c-47b1-4658-ad06-f9bb937e39e6',\n",
       " 51: 'd4189cfb-27b3-4806-989c-8bae34f559fc',\n",
       " 52: '1d17320e-43d8-4a76-9bd5-be524f6e4762',\n",
       " 53: '679a55a4-be5d-4264-9d1e-f5d65022a6ca',\n",
       " 54: '8f02685f-cb1b-4af3-993f-59fb94b26b36',\n",
       " 55: 'dbb13c5d-496c-4e40-939e-cd5a40a2ac9b',\n",
       " 56: '673e86be-74af-4c73-ad18-e71b035a4c79',\n",
       " 57: '22870303-eaa0-4014-8143-fbe4a3013f77',\n",
       " 58: '42f3ce2d-c2cf-477c-ba9f-06cfbbc9f690',\n",
       " 59: '53f10a29-e03e-4d3d-a60e-853395feccf9',\n",
       " 60: '54e5e462-da55-4a1e-bc42-e7f542643d48',\n",
       " 61: '54e726e5-afa6-44ec-98d7-03ef6a35abc9',\n",
       " 62: '3404879b-d812-4818-8869-4e1ae1c58eda',\n",
       " 63: 'c9ff8998-6781-45b7-b026-5405e0e0046d',\n",
       " 64: '13a69bb9-9ff3-4e13-9199-5ae1457e2036',\n",
       " 65: '72453467-ebe0-4bdb-bd4e-a530b34de44f',\n",
       " 66: 'eef93c97-b897-4285-95bd-fb68bbf1a961',\n",
       " 67: '9ef37b30-aed5-4ab9-9c67-23ac59174e86',\n",
       " 68: 'f92bac87-d362-4e49-aa76-ba8c80ab08d9',\n",
       " 69: 'f8ca1337-d976-474e-8185-548887af0244',\n",
       " 70: '114d2d3a-7c25-4543-afba-977f4db2fb79',\n",
       " 71: '55382fad-ba50-44de-a787-0e5a03af0ecd',\n",
       " 72: '3e657c0c-acdc-4a50-958d-0f71b1a6d027',\n",
       " 73: '3a83c1f8-cd70-4d09-9cd0-c0a3c26771bc',\n",
       " 74: '65751563-558b-483e-8157-a92d76b8b7af',\n",
       " 75: '76a52f8a-a4f7-4703-84b5-30b2386bae71',\n",
       " 76: 'cc7a0574-0ad4-48dc-a9b5-2e0d05c1aca7',\n",
       " 77: 'cf88b094-ee8b-41c3-87e7-bf119dd1898f',\n",
       " 78: '5c623c3e-9116-4c0c-8729-51af90f1009c',\n",
       " 79: '9ecb181e-dd8d-4e86-ab5d-f6645bb6969a',\n",
       " 80: '1713a53e-3e70-4c13-9f39-4f5b694cc38e',\n",
       " 81: '145c1344-3bfd-4f91-b062-2b24529bb958',\n",
       " 82: '7819dadd-90af-4280-a8f2-a4f2b62ef93f',\n",
       " 83: '404d5556-af28-4e0d-bbe7-61d44532976d',\n",
       " 84: '2717b7e7-12c6-4435-b0ff-5752a0bfea0c',\n",
       " 85: '45e4dccb-4b1a-4710-b551-9b3090febdb7',\n",
       " 86: '5517951d-9c9e-4071-a71c-c03baa3ae2e9',\n",
       " 87: '8e7aa112-3092-433b-aac2-8d79b8ca1376',\n",
       " 88: '3fe30eae-dc3e-44d4-bc27-4fe111ca727f',\n",
       " 89: '90b4ebbc-005a-4862-9509-b05d80184e6f',\n",
       " 90: '5465b395-aa66-4940-97c4-0c8f39d792d1',\n",
       " 91: 'e5ec0ff9-77ea-43eb-89c0-957b54e770f3',\n",
       " 92: '29bddc72-554f-4342-be49-2fc55905321b',\n",
       " 93: 'fbdd6fcf-13ac-4a6b-972a-32a708a1fe7d',\n",
       " 94: '715ec12c-14ef-4362-b63a-44d59666c4b3',\n",
       " 95: 'aa863932-145c-4972-86be-b174429ea2fb',\n",
       " 96: 'f3798977-2557-48d5-87a5-697681aad03e',\n",
       " 97: 'c5f754d2-ad24-4478-95b0-2607a1645b02',\n",
       " 98: '904a149f-28ae-43c0-a996-1aa883b1f6b0',\n",
       " 99: 'd1a99c82-75dd-4e23-84eb-2d67967f7d3c',\n",
       " 100: 'fd183c8d-1fab-41f3-810d-6a494d082879',\n",
       " 101: 'bb006b5b-17e7-4c8b-a5e6-9ed9b5efdfe3',\n",
       " 102: 'bf29664c-b70f-4091-8da8-b41696743aca',\n",
       " 103: '62c3ea44-e41e-4dfc-aa4f-6f04ef8e9d5d',\n",
       " 104: '230d274d-08f3-4135-9749-3e63c1222204',\n",
       " 105: 'df66dc3c-17c8-4713-bf03-f4f2dc5aa1cf',\n",
       " 106: 'ef9b6fe0-a6df-440e-b218-6b6595398276',\n",
       " 107: 'ffca9ced-bb77-4840-800f-c1c5c172f69b',\n",
       " 108: '93d59bab-94f9-4102-8d81-80532225cd4e',\n",
       " 109: 'f9a1d824-7e5f-4cac-945b-571db4774d01',\n",
       " 110: '0a8bbde9-7966-4083-a2ee-31b163072c3c',\n",
       " 111: 'b45cb9af-aa3f-4ec2-9378-d82585929595',\n",
       " 112: '446ce3d8-0013-4f58-82e0-f23b68da48bd',\n",
       " 113: '74b300e1-7b48-49c7-99af-bf7fb38cfd0d',\n",
       " 114: '62398787-5cd7-459e-ae1e-eafae02121f3',\n",
       " 115: '1e38a771-4215-456a-8fb3-a114a5b91ef7',\n",
       " 116: 'ea9a37e3-1d59-46ab-b413-414b86fc943f',\n",
       " 117: '42c9b8e8-637c-4973-8a3c-cfa1586dc6b5',\n",
       " 118: '82269ab8-b80d-47ec-8a36-4dcda28e8049',\n",
       " 119: '3826577b-5e8f-4442-adf3-a041e43579c0',\n",
       " 120: '125a4660-36a3-4094-aee0-8bb2cc9e0c09',\n",
       " 121: 'a33fba45-26f4-4553-904e-eb681afb9ab3',\n",
       " 122: '7eaa7c42-89f0-446c-907a-1eee2755a74e',\n",
       " 123: 'b3747188-2a21-4a8e-afa8-d597ed457a7d',\n",
       " 124: '0f40cd5e-39f9-415c-9e03-35de6f1c450a',\n",
       " 125: '053eb04a-f601-43c9-bddf-c43d4e53834b',\n",
       " 126: '4cc6850f-9c44-40c8-b050-034d424465d0',\n",
       " 127: '50dc3c58-c9be-4c0a-af9b-4d85d1036079',\n",
       " 128: '4176b46e-2215-4f75-954f-77d42e19801d',\n",
       " 129: '8d1f497e-1523-4dec-8c4b-e8cba722305a',\n",
       " 130: '99575732-32b2-4f04-b761-c8057592cde5',\n",
       " 131: '766b1e70-a9bc-4f24-858f-c6d4ec901eb9',\n",
       " 132: '6b97e444-b496-4fcd-9569-23920b8783f4',\n",
       " 133: '0ed4b170-f9db-48ec-b6e3-d8b48ddafac1',\n",
       " 134: 'ce87a028-a8e1-409d-a1e5-cff18b175095',\n",
       " 135: '0a452190-650c-4292-a4fd-05fee0fe4eee',\n",
       " 136: '36add18b-cdb1-4d41-8f94-a8e4d8efbdeb',\n",
       " 137: '9a2e8729-8f24-4787-8f48-33f36cf3afd1',\n",
       " 138: '4e2800c9-78b1-4e80-a530-deae5e9db2ca',\n",
       " 139: '20290f4b-02e6-4b21-98dc-07c961e6a3be',\n",
       " 140: '5ee1404c-a5c8-47c7-8b29-3a96e5d167cd',\n",
       " 141: '1a2aca75-8935-4bc3-812d-88aa187b865c',\n",
       " 142: '68e220c0-4f89-4bd0-b73b-56e57c8abb43',\n",
       " 143: '6d7e7239-d91a-40b4-8a7a-30ec09a73fcf',\n",
       " 144: '51743aec-1a79-4550-83b1-1abb5b21ef01',\n",
       " 145: '01186941-f2a8-4dcd-bde5-023e6411c4bd',\n",
       " 146: '206f27e1-1867-4ac8-bf4a-7a854d38ca1d',\n",
       " 147: '0040d171-3ba6-41cc-a80e-c3c5ca3b55cd',\n",
       " 148: '1787d216-4f2b-491b-8c72-fc271a1ef09a',\n",
       " 149: '480bfec3-8b44-4ed9-8160-315f8e7f656e',\n",
       " 150: '10a775ad-760f-461a-ab4b-5e239608d688',\n",
       " 151: 'f3a1813b-a3c3-4807-a3d4-34da4c307b32',\n",
       " 152: '659fc452-22fa-4ded-9b01-262f6224ec4e',\n",
       " 153: 'd056f4e3-8d5b-45fd-8c61-5ebe47186f0a',\n",
       " 154: '042c43ce-9fb0-4a04-8d1b-340545a88c67',\n",
       " 155: '23506b25-8d57-42ff-a9f3-725d677c50e1',\n",
       " 156: 'b3ed7614-0bcd-425d-9f60-e579f8be4fba',\n",
       " 157: 'f22a7fc7-4c77-4166-a0cb-36ea9c11a3c6',\n",
       " 158: '25e8ee68-ee20-493e-96e4-c385ace8d388',\n",
       " 159: '8565c805-321d-4efb-8e2a-78029c561224',\n",
       " 160: '5ca3f8bc-9632-4b4d-b927-fb7103a8831c',\n",
       " 161: 'd3678325-b61f-4dbf-ac51-ef1596237a9f',\n",
       " 162: '5567ad6f-0365-4426-bcbf-1bd2fc91ff05',\n",
       " 163: '121e2218-d675-4868-8b7f-47ea92dcc055',\n",
       " 164: 'c6076a35-6035-45a1-88db-8eed709a3ac2',\n",
       " 165: '3b87214f-6e03-4d8b-aa95-eee12141f725',\n",
       " 166: 'a2a985d0-f6a6-4292-b61f-37505212d4ad',\n",
       " 167: '208fd3ad-1592-45ed-8cbb-76ce079d16a4'}"
      ]
     },
     "execution_count": 9,
     "metadata": {},
     "output_type": "execute_result"
    }
   ],
   "source": [
    "vector_store.index_to_docstore_id"
   ]
  },
  {
   "cell_type": "code",
   "execution_count": 10,
   "metadata": {
    "colab": {
     "base_uri": "https://localhost:8080/"
    },
    "id": "MxokTcWEGGAo",
    "outputId": "e05f7a2a-4cb1-4fb0-ba48-e6887877a260"
   },
   "outputs": [
    {
     "data": {
      "text/plain": [
       "[Document(id='3b87214f-6e03-4d8b-aa95-eee12141f725', metadata={}, page_content=\"from the systems like all right how do i explain to the excuse me exactly all right let me i don't have time to explain uh maybe i'll draw you a picture that it is i mean how do you even begin um to answer that question well i think it would um what would you what would you think the answer could possibly look like i think it could it could start looking like uh uh more fundamental explanations of physics would be the beginning you know more careful specification of that taking you walking us through by the hand as to what one would do to maybe prove those things out maybe giving you glimpses of what things you totally missed in the physics of today exactly just here here's glimpses of no like there's a much uh a much more elaborate world or a much simpler world or something a much deeper maybe simpler explanation yes of things right than the standard model of physics which we know doesn't work but we still keep adding to so um and and that's how i think the beginning of an\")]"
      ]
     },
     "execution_count": 10,
     "metadata": {},
     "output_type": "execute_result"
    }
   ],
   "source": [
    "vector_store.get_by_ids(['3b87214f-6e03-4d8b-aa95-eee12141f725'])"
   ]
  },
  {
   "cell_type": "markdown",
   "metadata": {
    "id": "Zez1650EDN9J"
   },
   "source": [
    "## Step 2 - Retrieval"
   ]
  },
  {
   "cell_type": "code",
   "execution_count": 11,
   "metadata": {
    "id": "KEuoGUYOF3oG"
   },
   "outputs": [],
   "source": [
    "retriever = vector_store.as_retriever(search_type=\"similarity\", search_kwargs={\"k\": 4})"
   ]
  },
  {
   "cell_type": "code",
   "execution_count": 12,
   "metadata": {
    "colab": {
     "base_uri": "https://localhost:8080/"
    },
    "id": "Qcose8VuGFAv",
    "outputId": "f8e5472c-4073-4e44-af3a-f4ffcd023dc5"
   },
   "outputs": [
    {
     "data": {
      "text/plain": [
       "VectorStoreRetriever(tags=['FAISS', 'HuggingFaceEmbeddings'], vectorstore=<langchain_community.vectorstores.faiss.FAISS object at 0x0000028340C11C60>, search_kwargs={'k': 4})"
      ]
     },
     "execution_count": 12,
     "metadata": {},
     "output_type": "execute_result"
    }
   ],
   "source": [
    "retriever"
   ]
  },
  {
   "cell_type": "code",
   "execution_count": 13,
   "metadata": {
    "colab": {
     "base_uri": "https://localhost:8080/"
    },
    "id": "Wvrsq08TGGNk",
    "outputId": "55ed9475-4497-4e53-d380-5c4c10bf68cb"
   },
   "outputs": [
    {
     "data": {
      "text/plain": [
       "[Document(id='13a69bb9-9ff3-4e13-9199-5ae1457e2036', metadata={}, page_content=\"and how it works this is tough to uh ask you this question because you probably will say it's everything but let's let's try let's try to think to this because you're in a very interesting position where deepmind is the place of some of the most uh brilliant ideas in the history of ai but it's also a place of brilliant engineering so how much of solving intelligence this big goal for deepmind how much of it is science how much is engineering so how much is the algorithms how much is the data how much is the hardware compute infrastructure how much is it the software computer infrastructure yeah um what else is there how much is the human infrastructure and like just the humans interact in certain kinds of ways in all the space of all those ideas how much does maybe like philosophy how much what's the key if um uh if if you were to sort of look back like if we go forward 200 years look back what was the key thing that solved intelligence is that ideas i think it's a combination first\"),\n",
       " Document(id='e1609d78-13de-40d3-bc35-7f4911679393', metadata={}, page_content=\"the following is a conversation with demus hasabis ceo and co-founder of deepmind a company that has published and builds some of the most incredible artificial intelligence systems in the history of computing including alfred zero that learned all by itself to play the game of gold better than any human in the world and alpha fold two that solved protein folding both tasks considered nearly impossible for a very long time demus is widely considered to be one of the most brilliant and impactful humans in the history of artificial intelligence and science and engineering in general this was truly an honor and a pleasure for me to finally sit down with him for this conversation and i'm sure we will talk many times again in the future this is the lex friedman podcast to support it please check out our sponsors in the description and now dear friends here's demis hassabis let's start with a bit of a personal question am i an ai program you wrote to interview people until i get good enough\"),\n",
       " Document(id='3a83c1f8-cd70-4d09-9cd0-c0a3c26771bc', metadata={}, page_content=\"ambitious as trying to solve intelligence and you're you're you know it's blue sky research no one knows how to do it you you you need to use any evidence or any source of information you can to help guide you in the right direction or give you confidence you're going in the right direction so so that that was one reason we pushed so hard on that and that's and just going back to your early question about organization the other big thing that i think we innovated with at deepmind to encourage invention and and uh and innovation was the multi-disciplinary organization we built and we still have today so deepmind originally was a confluence of the of the most cutting-edge knowledge in neuroscience with machine learning engineering and mathematics right and and gaming and then since then we built that out even further so we have philosophers here and and uh by you know ethicists but also other types of scientists physicists and so on um and that's what brings together i tried to build a\"),\n",
       " Document(id='58f84d3b-b776-4798-954c-ef6c05229b7b', metadata={}, page_content=\"used of ai is in deep mind from the beginning which is using games as a testing ground for proving out ai algorithms and developing ai algorithms and that was a that was a sort of um a core component of our vision at the start of deepmind was that we would use games very heavily uh as our main testing ground certainly to begin with um because it's super efficient to use games and also you know it's very easy to have metrics to see how well your systems are improving and what direction your ideas are going in and whether you're making incremental improvements and because those games are often rooted in something that humans did for a long time beforehand there's already a strong set of rules like it's already a damn good benchmark yes it's really good for so many reasons because you've got you've got you've got clear measures of how good humans can be at these things and in some cases like go we've been playing it for thousands of years um and and uh often they have scores or at least\")]"
      ]
     },
     "execution_count": 13,
     "metadata": {},
     "output_type": "execute_result"
    }
   ],
   "source": [
    "retriever.invoke('What is deepmind')"
   ]
  },
  {
   "cell_type": "markdown",
   "metadata": {
    "id": "F8y0wRmoDSVZ"
   },
   "source": [
    "## Step 3 - Augmentation"
   ]
  },
  {
   "cell_type": "code",
   "execution_count": 14,
   "metadata": {
    "id": "x2P2AlJ0GN5L"
   },
   "outputs": [],
   "source": [
    "endpoint = HuggingFaceEndpoint(\n",
    "    repo_id=\"mistralai/Mixtral-8x7B-Instruct-v0.1\",\n",
    "    temperature=0.7,\n",
    "    max_new_tokens=512\n",
    ")\n",
    "\n",
    "llm = ChatHuggingFace(llm=endpoint)"
   ]
  },
  {
   "cell_type": "code",
   "execution_count": 15,
   "metadata": {
    "id": "2-NeLx9wFHzw"
   },
   "outputs": [],
   "source": [
    "prompt = PromptTemplate(\n",
    "    template=\"\"\"\n",
    "      You are a helpful assistant.\n",
    "      Answer ONLY from the provided transcript context.\n",
    "      If the context is insufficient, just say you don't know.\n",
    "\n",
    "      {context}\n",
    "      Question: {question}\n",
    "    \"\"\",\n",
    "    input_variables = ['context', 'question']\n",
    ")"
   ]
  },
  {
   "cell_type": "code",
   "execution_count": 16,
   "metadata": {
    "id": "WI9BOZQwGizf"
   },
   "outputs": [],
   "source": [
    "question          = \"is the topic of nuclear fusion discussed in this video? if yes then what was discussed\"\n",
    "retrieved_docs    = retriever.invoke(question)"
   ]
  },
  {
   "cell_type": "code",
   "execution_count": 17,
   "metadata": {
    "colab": {
     "base_uri": "https://localhost:8080/"
    },
    "id": "hfv8yNFsK_GN",
    "outputId": "79fa2a7e-8d92-45bf-99e4-ad12cd86c7a1"
   },
   "outputs": [
    {
     "data": {
      "text/plain": [
       "[Document(id='aa863932-145c-4972-86be-b174429ea2fb', metadata={}, page_content=\"in this case in fusion we we collaborated with epfl in switzerland the swiss technical institute who are amazing they have a test reactor that they were willing to let us use which you know i double checked with the team we were going to use carefully and safely i was impressed they managed to persuade them to let us use it and um and it's a it's an amazing test reactor they have there and they try all sorts of pretty crazy experiments on it and um the the the what we tend to look at is if we go into a new domain like fusion what are all the bottleneck problems uh like thinking from first principles you know what are all the bottleneck problems that are still stopping fusion working today and then we look at we you know we get a fusion expert to tell us and then we look at those bottlenecks and we look at the ones which ones are amenable to our ai methods today yes right and and and then and would be interesting from a research perspective from our point of view from an ai point of\"),\n",
       " Document(id='715ec12c-14ef-4362-b63a-44d59666c4b3', metadata={}, page_content='that i would like to i think could be very transformative if we helped accelerate and uh really interesting problems scientific challenges in of themselves this is energy so energy yes exactly so energy and climate so we talked about disease and biology as being one of the biggest places i think ai can help with i think energy and climate uh is another one so maybe they would be my top two um and fusion is one one area i think ai can help with now fusion has many challenges mostly physics material science and engineering challenges as well to build these massive fusion reactors and contain the plasma and what we try to do whenever we go into a new field to apply our systems is we look for um we talk to domain experts we try and find the best people in the world to collaborate with um in this case in fusion we we collaborated with epfl in switzerland the swiss technical institute who are amazing they have a test reactor that they were willing to let us use which you know i double'),\n",
       " Document(id='904a149f-28ae-43c0-a996-1aa883b1f6b0', metadata={}, page_content=\"so we with this problem and we published it in a nature paper last year uh we held the fusion that we held the plasma in specific shapes so actually it's almost like carving the plasma into different shapes and control and hold it there for the record amount of time so um so that's one of the problems of of fusion sort of um solved so i have a controller that's able to no matter the shape uh contain it continue yeah contain it and hold it in structure and there's different shapes that are better for for the energy productions called droplets and and and so on so um so that was huge and now we're looking we're talking to lots of fusion startups to see what's the next problem we can tackle uh in the fusion area so another fascinating place in a paper title pushing the frontiers of density functionals by solving the fractional electron problem so you're taking on modeling and simulating the quantum mechanical behavior of electrons yes um can you explain this work and can ai model and\"),\n",
       " Document(id='fbdd6fcf-13ac-4a6b-972a-32a708a1fe7d', metadata={}, page_content=\"like room temperature superconductors or something on my list one day i'd like to like you know have an ai system to help build better optimized batteries all of these sort of mechanical things mr i think a systematic sort of search could be uh guided by a model could be um could be extremely powerful so speaking of which you have a paper on nuclear fusion uh magnetic control of tokamak plasmas to deep reinforcement learning so you uh you're seeking to solve nuclear fusion with deep rl so it's doing control of high temperature plasmas can you explain this work and uh can ai eventually solve nuclear fusion it's been very fun last year or two and very productive because we've been taking off a lot of my dream projects if you like of things that i've collected over the years of areas of science that i would like to i think could be very transformative if we helped accelerate and uh really interesting problems scientific challenges in of themselves this is energy so energy yes exactly so\")]"
      ]
     },
     "execution_count": 17,
     "metadata": {},
     "output_type": "execute_result"
    }
   ],
   "source": [
    "retrieved_docs"
   ]
  },
  {
   "cell_type": "code",
   "execution_count": 18,
   "metadata": {
    "colab": {
     "base_uri": "https://localhost:8080/",
     "height": 156
    },
    "id": "bKwpvAo5G_Pk",
    "outputId": "26f0efd0-b35f-44dd-9735-dfc41c1ab86d"
   },
   "outputs": [
    {
     "data": {
      "text/plain": [
       "\"in this case in fusion we we collaborated with epfl in switzerland the swiss technical institute who are amazing they have a test reactor that they were willing to let us use which you know i double checked with the team we were going to use carefully and safely i was impressed they managed to persuade them to let us use it and um and it's a it's an amazing test reactor they have there and they try all sorts of pretty crazy experiments on it and um the the the what we tend to look at is if we go into a new domain like fusion what are all the bottleneck problems uh like thinking from first principles you know what are all the bottleneck problems that are still stopping fusion working today and then we look at we you know we get a fusion expert to tell us and then we look at those bottlenecks and we look at the ones which ones are amenable to our ai methods today yes right and and and then and would be interesting from a research perspective from our point of view from an ai point of\\n\\nthat i would like to i think could be very transformative if we helped accelerate and uh really interesting problems scientific challenges in of themselves this is energy so energy yes exactly so energy and climate so we talked about disease and biology as being one of the biggest places i think ai can help with i think energy and climate uh is another one so maybe they would be my top two um and fusion is one one area i think ai can help with now fusion has many challenges mostly physics material science and engineering challenges as well to build these massive fusion reactors and contain the plasma and what we try to do whenever we go into a new field to apply our systems is we look for um we talk to domain experts we try and find the best people in the world to collaborate with um in this case in fusion we we collaborated with epfl in switzerland the swiss technical institute who are amazing they have a test reactor that they were willing to let us use which you know i double\\n\\nso we with this problem and we published it in a nature paper last year uh we held the fusion that we held the plasma in specific shapes so actually it's almost like carving the plasma into different shapes and control and hold it there for the record amount of time so um so that's one of the problems of of fusion sort of um solved so i have a controller that's able to no matter the shape uh contain it continue yeah contain it and hold it in structure and there's different shapes that are better for for the energy productions called droplets and and and so on so um so that was huge and now we're looking we're talking to lots of fusion startups to see what's the next problem we can tackle uh in the fusion area so another fascinating place in a paper title pushing the frontiers of density functionals by solving the fractional electron problem so you're taking on modeling and simulating the quantum mechanical behavior of electrons yes um can you explain this work and can ai model and\\n\\nlike room temperature superconductors or something on my list one day i'd like to like you know have an ai system to help build better optimized batteries all of these sort of mechanical things mr i think a systematic sort of search could be uh guided by a model could be um could be extremely powerful so speaking of which you have a paper on nuclear fusion uh magnetic control of tokamak plasmas to deep reinforcement learning so you uh you're seeking to solve nuclear fusion with deep rl so it's doing control of high temperature plasmas can you explain this work and uh can ai eventually solve nuclear fusion it's been very fun last year or two and very productive because we've been taking off a lot of my dream projects if you like of things that i've collected over the years of areas of science that i would like to i think could be very transformative if we helped accelerate and uh really interesting problems scientific challenges in of themselves this is energy so energy yes exactly so\""
      ]
     },
     "execution_count": 18,
     "metadata": {},
     "output_type": "execute_result"
    }
   ],
   "source": [
    "context_text = \"\\n\\n\".join(doc.page_content for doc in retrieved_docs)\n",
    "context_text"
   ]
  },
  {
   "cell_type": "code",
   "execution_count": 19,
   "metadata": {
    "id": "_bikWKZWDiqB"
   },
   "outputs": [],
   "source": [
    "final_prompt = prompt.invoke({\"context\": context_text, \"question\": question})"
   ]
  },
  {
   "cell_type": "code",
   "execution_count": 20,
   "metadata": {
    "colab": {
     "base_uri": "https://localhost:8080/"
    },
    "id": "5LOFVVAbLYvU",
    "outputId": "b6c47460-fdf3-4dad-ebe5-611b3dfe854b"
   },
   "outputs": [
    {
     "data": {
      "text/plain": [
       "StringPromptValue(text=\"\\n      You are a helpful assistant.\\n      Answer ONLY from the provided transcript context.\\n      If the context is insufficient, just say you don't know.\\n\\n      in this case in fusion we we collaborated with epfl in switzerland the swiss technical institute who are amazing they have a test reactor that they were willing to let us use which you know i double checked with the team we were going to use carefully and safely i was impressed they managed to persuade them to let us use it and um and it's a it's an amazing test reactor they have there and they try all sorts of pretty crazy experiments on it and um the the the what we tend to look at is if we go into a new domain like fusion what are all the bottleneck problems uh like thinking from first principles you know what are all the bottleneck problems that are still stopping fusion working today and then we look at we you know we get a fusion expert to tell us and then we look at those bottlenecks and we look at the ones which ones are amenable to our ai methods today yes right and and and then and would be interesting from a research perspective from our point of view from an ai point of\\n\\nthat i would like to i think could be very transformative if we helped accelerate and uh really interesting problems scientific challenges in of themselves this is energy so energy yes exactly so energy and climate so we talked about disease and biology as being one of the biggest places i think ai can help with i think energy and climate uh is another one so maybe they would be my top two um and fusion is one one area i think ai can help with now fusion has many challenges mostly physics material science and engineering challenges as well to build these massive fusion reactors and contain the plasma and what we try to do whenever we go into a new field to apply our systems is we look for um we talk to domain experts we try and find the best people in the world to collaborate with um in this case in fusion we we collaborated with epfl in switzerland the swiss technical institute who are amazing they have a test reactor that they were willing to let us use which you know i double\\n\\nso we with this problem and we published it in a nature paper last year uh we held the fusion that we held the plasma in specific shapes so actually it's almost like carving the plasma into different shapes and control and hold it there for the record amount of time so um so that's one of the problems of of fusion sort of um solved so i have a controller that's able to no matter the shape uh contain it continue yeah contain it and hold it in structure and there's different shapes that are better for for the energy productions called droplets and and and so on so um so that was huge and now we're looking we're talking to lots of fusion startups to see what's the next problem we can tackle uh in the fusion area so another fascinating place in a paper title pushing the frontiers of density functionals by solving the fractional electron problem so you're taking on modeling and simulating the quantum mechanical behavior of electrons yes um can you explain this work and can ai model and\\n\\nlike room temperature superconductors or something on my list one day i'd like to like you know have an ai system to help build better optimized batteries all of these sort of mechanical things mr i think a systematic sort of search could be uh guided by a model could be um could be extremely powerful so speaking of which you have a paper on nuclear fusion uh magnetic control of tokamak plasmas to deep reinforcement learning so you uh you're seeking to solve nuclear fusion with deep rl so it's doing control of high temperature plasmas can you explain this work and uh can ai eventually solve nuclear fusion it's been very fun last year or two and very productive because we've been taking off a lot of my dream projects if you like of things that i've collected over the years of areas of science that i would like to i think could be very transformative if we helped accelerate and uh really interesting problems scientific challenges in of themselves this is energy so energy yes exactly so\\n      Question: is the topic of nuclear fusion discussed in this video? if yes then what was discussed\\n    \")"
      ]
     },
     "execution_count": 20,
     "metadata": {},
     "output_type": "execute_result"
    }
   ],
   "source": [
    "final_prompt"
   ]
  },
  {
   "cell_type": "markdown",
   "metadata": {
    "id": "MxxcV2C_DXqt"
   },
   "source": [
    "## Step 4 - Generation"
   ]
  },
  {
   "cell_type": "code",
   "execution_count": 21,
   "metadata": {
    "colab": {
     "base_uri": "https://localhost:8080/"
    },
    "id": "HX6vxSoUHBok",
    "outputId": "eade1e56-b8af-4b7e-c34b-08a4a1b0da00"
   },
   "outputs": [
    {
     "name": "stdout",
     "output_type": "stream",
     "text": [
      " Yes, the topic of nuclear fusion is discussed in this video. The speakers collaborated with EPFL in Switzerland, who have a test reactor that they allowed the team to use. They focused on identifying bottleneck problems that are currently preventing fusion from working and looked for problems that are amenable to AI methods to help accelerate progress in this field. They published a paper in Nature on holding plasma in specific shapes for a record amount of time using a controller, which was a significant step in solving fusion challenges. Now, they are talking to fusion startups to determine the next problem they can tackle in the fusion area. Additionally, they mentioned a paper on magnetic control of tokamak plasmas using deep reinforcement learning to solve nuclear fusion.\n"
     ]
    }
   ],
   "source": [
    "answer = llm.invoke(final_prompt)\n",
    "print(answer.content)"
   ]
  },
  {
   "cell_type": "markdown",
   "metadata": {
    "id": "wH2Ph0NcDlo5"
   },
   "source": [
    "## Building a Chain"
   ]
  },
  {
   "cell_type": "code",
   "execution_count": 22,
   "metadata": {
    "id": "RdTwSS3nHKRz"
   },
   "outputs": [],
   "source": [
    "from langchain_core.runnables import RunnableParallel, RunnablePassthrough, RunnableLambda\n",
    "from langchain_core.output_parsers import StrOutputParser"
   ]
  },
  {
   "cell_type": "code",
   "execution_count": 23,
   "metadata": {
    "id": "VGezE1qYQJ76"
   },
   "outputs": [],
   "source": [
    "def format_docs(retrieved_docs):\n",
    "  context_text = \"\\n\\n\".join(doc.page_content for doc in retrieved_docs)\n",
    "  return context_text"
   ]
  },
  {
   "cell_type": "code",
   "execution_count": 24,
   "metadata": {
    "id": "fmYnYqbWQWLi"
   },
   "outputs": [],
   "source": [
    "parallel_chain = RunnableParallel({\n",
    "    'context': retriever | RunnableLambda(format_docs),\n",
    "    'question': RunnablePassthrough()\n",
    "})"
   ]
  },
  {
   "cell_type": "code",
   "execution_count": 25,
   "metadata": {
    "colab": {
     "base_uri": "https://localhost:8080/"
    },
    "id": "lGI1hEvfQvLb",
    "outputId": "093b395c-69da-44d8-dbef-b313f3752687"
   },
   "outputs": [
    {
     "data": {
      "text/plain": [
       "{'context': \"to get world peace because there's also other corrupting things like wanting power over people and this kind of stuff which is not necessarily satisfied by by just abundance but i think it will help um and i think uh but i think ultimately ai is not going to be run by any one person or one organization i think it should belong to the world belong to humanity um and i think maybe many there'll be many ways this will happen and ultimately um everybody should have a say in that do you have advice for uh young people in high school and college maybe um if they're interested in ai or interested in having a big impact on the world what they should do to have a career they can be proud of her to have a life they can be proud of i love giving talks to the next generation what i say to them is actually two things i i think the most important things to learn about and to find out about when you're when you're young is what are your true passions is first of all there's two things one is find\\n\\nthe following is a conversation with demus hasabis ceo and co-founder of deepmind a company that has published and builds some of the most incredible artificial intelligence systems in the history of computing including alfred zero that learned all by itself to play the game of gold better than any human in the world and alpha fold two that solved protein folding both tasks considered nearly impossible for a very long time demus is widely considered to be one of the most brilliant and impactful humans in the history of artificial intelligence and science and engineering in general this was truly an honor and a pleasure for me to finally sit down with him for this conversation and i'm sure we will talk many times again in the future this is the lex friedman podcast to support it please check out our sponsors in the description and now dear friends here's demis hassabis let's start with a bit of a personal question am i an ai program you wrote to interview people until i get good enough\\n\\nof deep mind just as a human being let me ask you about this one particular anecdotal evidence of the google engineer who made a comment or believed that there's some aspect of a language model the lambda language model that exhibited sentience so you said you believe there might be a responsibility to build systems that are not essential and this experience of a particular engineer i think i'd love to get your general opinion on this kind of thing but i think it will happen more and more and more which uh not when engineers but when people out there that don't have an engineering background start interacting with increasingly intelligent systems we anthropomorphize them they they start to have deep impactful um interactions with us in a way that we miss them yeah when they're gone and we sure feel like they're living entities self-aware entities and maybe even we project sentience onto them so what what's your thought about this particular uh system was is uh have you ever met a\\n\\nthat are amazingly smart at certain things like maybe playing go and chess and other things but they don't feel at all in any shape or form conscious in the way that you know you do to me or i do to you and um and i think actually building ai is uh these intelligent constructs uh is one of the best ways to explore the mystery of consciousness to break it down because um we're going to have devices that are pretty smart at certain things or capable of certain things but potentially won't have any semblance of self-awareness or other things and in fact i would advocate if there's a choice building systems in the first place ai systems that are not conscious to begin with uh are just tools um until we understand them better and the capabilities better so on that topic just not as the ceo of deep mind just as a human being let me ask you about this one particular anecdotal evidence of the google engineer who made a comment or believed that there's some aspect of a language model the\",\n",
       " 'question': 'who is Demis'}"
      ]
     },
     "execution_count": 25,
     "metadata": {},
     "output_type": "execute_result"
    }
   ],
   "source": [
    "parallel_chain.invoke('who is Demis')"
   ]
  },
  {
   "cell_type": "code",
   "execution_count": 26,
   "metadata": {
    "id": "e6osgdBfRCPN"
   },
   "outputs": [],
   "source": [
    "parser = StrOutputParser()"
   ]
  },
  {
   "cell_type": "code",
   "execution_count": 27,
   "metadata": {
    "id": "Y3e2en89QyOC"
   },
   "outputs": [],
   "source": [
    "main_chain = parallel_chain | prompt | llm | parser"
   ]
  },
  {
   "cell_type": "code",
   "execution_count": 28,
   "metadata": {
    "colab": {
     "base_uri": "https://localhost:8080/",
     "height": 122
    },
    "id": "Ur7Ph_xlRE-7",
    "outputId": "92122b01-36e9-4de4-85cb-6eb1e893a33d"
   },
   "outputs": [
    {
     "data": {
      "text/plain": [
       "\" The speaker discusses the possibility of a more fundamental and simpler explanation of physics that goes beyond the standard model. This explanation would encompass mysteries that humans have wondered about for thousands of years, such as consciousness, life, and gravity. They also mention the importance of being able to explain things clearly and simply as a sign of intelligence, using Richard Feynman as an example. The conversation then shifts to a discussion of chess, computers, and AI, with a mention of Claude Shannon's first chess program and the eventual victory of IBM's Deep Blue over Garry Kasparov. The speaker expresses more admiration for Kasparov's mind, noting that he could play chess at a high level despite not having the computational power of Deep Blue.\""
      ]
     },
     "execution_count": 28,
     "metadata": {},
     "output_type": "execute_result"
    }
   ],
   "source": [
    "main_chain.invoke('Can you summarize the video')"
   ]
  }
 ],
 "metadata": {
  "colab": {
   "provenance": []
  },
  "kernelspec": {
   "display_name": "py310",
   "language": "python",
   "name": "python3"
  },
  "language_info": {
   "codemirror_mode": {
    "name": "ipython",
    "version": 3
   },
   "file_extension": ".py",
   "mimetype": "text/x-python",
   "name": "python",
   "nbconvert_exporter": "python",
   "pygments_lexer": "ipython3",
   "version": "3.10.18"
  }
 },
 "nbformat": 4,
 "nbformat_minor": 4
}
